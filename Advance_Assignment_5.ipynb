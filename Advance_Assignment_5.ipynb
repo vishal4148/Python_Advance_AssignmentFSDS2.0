{
 "cells": [
  {
   "cell_type": "markdown",
   "id": "eee2d137",
   "metadata": {},
   "source": [
    "#### Q1. What is the meaning of multiple inheritance?\n",
    "Ans: Multiple inheritance is a feature of some object-oriented programming languages that allows a class to inherit from more than one parent class. This can be useful for creating classes that have a complex or specialized set of features.\n",
    "\n",
    "For example, a class that represents a car could inherit from both a class that represents a vehicle and a class that represents a four-wheeled vehicle. This would allow the car class to inherit all of the features of the vehicle class and the four-wheeled vehicle class.\n",
    "\n",
    "Multiple inheritance can be a powerful tool, but it can also be complex and difficult to use. It is important to carefully consider the design of a class before using multiple inheritance.\n",
    "\n",
    "Here are some of the benefits of using multiple inheritance:\n",
    "\n",
    "Reusability: Multiple inheritance can be used to reuse code by inheriting from existing classes. This can save time and effort when developing new applications.\n",
    "Flexibility: Multiple inheritance can be used to create classes with a complex or specialized set of features. This can be useful for a variety of applications.\n",
    "Efficiency: Multiple inheritance can be used to create classes that are more efficient than classes that are created using multiple inheritance. This is because multiple inheritance can allow the compiler to optimize the code for the class."
   ]
  },
  {
   "cell_type": "code",
   "execution_count": null,
   "id": "73a2dfdc",
   "metadata": {},
   "outputs": [],
   "source": []
  },
  {
   "cell_type": "markdown",
   "id": "70318178",
   "metadata": {},
   "source": [
    "#### Q2. What is the concept of delegation?\n",
    "Ans. Delegation is a design pattern in object-oriented programming that involves one object passing responsibility for a task to another object. In other words, when an object receives a request that it is not equipped to handle, it delegates that request to another object that is better suited to handle it.\n",
    "\n",
    "Delegation is often used when you want to reuse existing code in a flexible and modular way. Instead of inheriting from     a base class and overriding its methods, you can create a new class that contains an instance of the base class and         delegates to it as needed."
   ]
  },
  {
   "cell_type": "code",
   "execution_count": null,
   "id": "c11c6262",
   "metadata": {},
   "outputs": [],
   "source": []
  },
  {
   "cell_type": "markdown",
   "id": "c3959690",
   "metadata": {},
   "source": [
    "#### Q3. What is the concept of composition?\n",
    "\n",
    "Ans. Composition is a design pattern in object-oriented programming that involves combining two or more objects to create a more complex object. In other words, a complex object is composed of smaller objects that work together to achieve a common goal.\n",
    "\n",
    "In object-oriented programming, composition is a design pattern that allows an object to be composed of other objects. This means that an object can contain other objects as its properties.\n"
   ]
  },
  {
   "cell_type": "code",
   "execution_count": null,
   "id": "3eafe60b",
   "metadata": {},
   "outputs": [],
   "source": []
  },
  {
   "cell_type": "markdown",
   "id": "e4993fcc",
   "metadata": {},
   "source": [
    "#### Q4. What are bound methods and how do we use them?\n",
    "\n",
    "Ans. In Python, a bound method is a method that is bound to an instance of a class. When you call a bound method on an instance, the instance is automatically passed as the first argument to the method. This allows the method to access and operate on the instance's data."
   ]
  },
  {
   "cell_type": "code",
   "execution_count": null,
   "id": "f55b2cfe",
   "metadata": {},
   "outputs": [],
   "source": []
  },
  {
   "cell_type": "markdown",
   "id": "d9168f07",
   "metadata": {},
   "source": [
    "#### Q5. What is the purpose of pseudoprivate attributes?\n",
    "Ans. In Python, pseudoprivate attributes are attributes that are defined with a double underscore prefix (__). When an attribute is defined in this way, its name is automatically \"mangled\" by Python, which means it is renamed to include the class name in the attribute name.\n",
    "\n",
    " The purpose of pseudoprivate attributes is to avoid naming conflicts between attributes of a class and its subclasses.      By using a double underscore prefix, you can ensure that an attribute is only accessible from within the class and its      methods, and not from outside the class or from its subclasses. This can help prevent accidental modification of            attributes that are intended to be private or internal to the class."
   ]
  },
  {
   "cell_type": "code",
   "execution_count": null,
   "id": "77a61dd3",
   "metadata": {},
   "outputs": [],
   "source": []
  }
 ],
 "metadata": {
  "kernelspec": {
   "display_name": "Python 3 (ipykernel)",
   "language": "python",
   "name": "python3"
  },
  "language_info": {
   "codemirror_mode": {
    "name": "ipython",
    "version": 3
   },
   "file_extension": ".py",
   "mimetype": "text/x-python",
   "name": "python",
   "nbconvert_exporter": "python",
   "pygments_lexer": "ipython3",
   "version": "3.11.2"
  }
 },
 "nbformat": 4,
 "nbformat_minor": 5
}
