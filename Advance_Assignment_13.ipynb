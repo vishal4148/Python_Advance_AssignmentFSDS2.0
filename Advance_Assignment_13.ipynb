{
 "cells": [
  {
   "cell_type": "markdown",
   "id": "12e1f8e9",
   "metadata": {},
   "source": [
    "#### Q1. Can you create a programme or function that employs both positive and negative indexing? Is there any repercussion if you do so?\n",
    "Ans. Yes, it is possible to create a program or function in Python that employs both positive and negative indexing. Positive indexing starts at 0 for the first character in a string and increases by 1 for each subsequent character, while negative indexing starts at -1 for the last character in a string and decreases by 1 for each preceding character.There are no significant repercussions to using both positive and negative indexing in a Python program or function, as long as you use them correctly and consistently. However, it is important to be aware of the potential for confusion or errors when mixing positive and negative indices, especially if your code is complex or involves multiple layers of indexing. It is always a good idea to double-check your code and test it thoroughly to ensure that it is working as intended."
   ]
  },
  {
   "cell_type": "code",
   "execution_count": null,
   "id": "aa890f8c",
   "metadata": {},
   "outputs": [],
   "source": []
  },
  {
   "cell_type": "markdown",
   "id": "86600210",
   "metadata": {},
   "source": [
    "#### Q2. What is the most effective way of starting with 1,000 elements in a Python list? Assume that all elements should be set to the same value.\n",
    "Ans. The most effective way to create a Python list with 1,000 elements set to the same value is to use the list multiplication operator (*) with a list containing a single element.\n"
   ]
  },
  {
   "cell_type": "code",
   "execution_count": null,
   "id": "e7b95cd0",
   "metadata": {},
   "outputs": [],
   "source": []
  },
  {
   "cell_type": "markdown",
   "id": "9d8ff550",
   "metadata": {},
   "source": [
    "#### Q3. How do you slice a list to get any other part while missing the rest? (For example, suppose you want to make a new list with the elements first, third, fifth, seventh, and so on.)\n",
    "Ans. To slice a list and get specific elements while skipping the rest, you can use Python's extended slice notation. In particular, you can use the step argument to specify how many elements to skip between each included element."
   ]
  },
  {
   "cell_type": "code",
   "execution_count": null,
   "id": "782b7ce1",
   "metadata": {},
   "outputs": [],
   "source": []
  },
  {
   "cell_type": "markdown",
   "id": "541576cc",
   "metadata": {},
   "source": [
    "#### Q4.Explain the distinctions between indexing and slicing.\n",
    "Ans. In Python, indexing and slicing are two different ways of accessing elements in a sequence, such as a list, tuple, or string.Indexing refers to accessing a single element of the sequence by its position, which is represented by a non- negative integer index. Indexing is done using square brackets ([]) with the index of the desired element inside the brackets. The index of the first element in the sequence is 0, the index of the second element is 1, and so on. Slicing, on the other hand, refers to accessing a contiguous portion of the sequence by specifying a range of indices. Slicing is done using square brackets with two or three values separated by colons (:) inside the brackets. The first value represents the start index of the slice (inclusive), the second value represents the end index of the slice (exclusive), and the third value (optional) represents the step size of the slice."
   ]
  },
  {
   "cell_type": "code",
   "execution_count": null,
   "id": "0a18ecf4",
   "metadata": {},
   "outputs": [],
   "source": []
  },
  {
   "cell_type": "markdown",
   "id": "b91b99a8",
   "metadata": {},
   "source": [
    "#### Q5. What happens if one of the slicing expression&#39;s indexes is out of range?\n",
    "Ans. If one of the slicing expression's indexes is out of range, Python will not raise an error. Instead, it will silently adjust the index to the nearest valid value."
   ]
  },
  {
   "cell_type": "code",
   "execution_count": null,
   "id": "2da54747",
   "metadata": {},
   "outputs": [],
   "source": []
  },
  {
   "cell_type": "markdown",
   "id": "1de4c0ce",
   "metadata": {},
   "source": [
    "#### Q6. If you pass a list to a function, and if you want the function to be able to change the values of the list—so that the list is different after the function returns—what action should you avoid?\n",
    "Ans. If you want a function to be able to change the values of a list that is passed to it, you should avoid reassigning the name of the list to a new object inside the function. This is because doing so will break the link between the original list object and the name used in the function, and any changes made to the new object will not affect the original list.\n",
    "\n",
    " Instead, you should modify the elements of the list in place, using indexing or slicing. This will preserve the link        between the original list object and the name used in the function, so any changes made to the elements of the list        will be reflected in the original list after the function returns."
   ]
  },
  {
   "cell_type": "code",
   "execution_count": null,
   "id": "f0274fb6",
   "metadata": {},
   "outputs": [],
   "source": []
  },
  {
   "cell_type": "markdown",
   "id": "b4022515",
   "metadata": {},
   "source": [
    "#### Q7. What is the concept of an unbalanced matrix?\n",
    "Ans. In programming and computer science, an unbalanced matrix refers to a matrix (a two-dimensional array) where the number of elements in each row is not the same. This means that the matrix is not a perfect rectangle or square, but rather has rows of varying lengths."
   ]
  },
  {
   "cell_type": "code",
   "execution_count": null,
   "id": "c8a114df",
   "metadata": {},
   "outputs": [],
   "source": []
  },
  {
   "cell_type": "markdown",
   "id": "1a1de30c",
   "metadata": {},
   "source": [
    "#### Q8. Why is it necessary to use either list comprehension or a loop to create arbitrarily large matrices?\n",
    "Ans. In Python, lists are used to represent matrices, with each element of the list representing a row of the matrix. To create a matrix with arbitrary dimensions, it is necessary to use either a list comprehension or a loop to generate the rows of the matrix.\n",
    "\n",
    " The reason for this is that in Python, lists are dynamic and can be resized as needed. When a list is created, it is        allocated a certain amount of memory based on its initial size, and as elements are added to the list, more memory is      allocated as needed. This means that it is not necessary to preallocate memory for the entire matrix before it is          created.\n",
    "\n",
    " Using a list comprehension or a loop to create the rows of the matrix allows for dynamic resizing of the list as            needed."
   ]
  },
  {
   "cell_type": "code",
   "execution_count": null,
   "id": "94a2a04b",
   "metadata": {},
   "outputs": [],
   "source": []
  }
 ],
 "metadata": {
  "kernelspec": {
   "display_name": "Python 3 (ipykernel)",
   "language": "python",
   "name": "python3"
  },
  "language_info": {
   "codemirror_mode": {
    "name": "ipython",
    "version": 3
   },
   "file_extension": ".py",
   "mimetype": "text/x-python",
   "name": "python",
   "nbconvert_exporter": "python",
   "pygments_lexer": "ipython3",
   "version": "3.11.2"
  }
 },
 "nbformat": 4,
 "nbformat_minor": 5
}
