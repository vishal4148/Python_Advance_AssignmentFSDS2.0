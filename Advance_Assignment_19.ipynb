{
 "cells": [
  {
   "cell_type": "markdown",
   "id": "cd1cc90c",
   "metadata": {},
   "source": [
    "#### Q1. Define the relationship between a class and its instances. Is it a one-to-one or a one-to-many partnership, for example?\n",
    "Ans. The relationship between a class and its instances in object-oriented programming can be described as a one-to-many partnership."
   ]
  },
  {
   "cell_type": "code",
   "execution_count": null,
   "id": "84672379",
   "metadata": {},
   "outputs": [],
   "source": []
  },
  {
   "cell_type": "markdown",
   "id": "d47cc8aa",
   "metadata": {},
   "source": [
    "#### Q2. What kind of data is held only in an instance?\n",
    "Ans. In object-oriented programming, an instance holds data that is specific to that particular instance and is separate from the class itself or other instances. This data is often referred to as instance data or instance variables."
   ]
  },
  {
   "cell_type": "code",
   "execution_count": null,
   "id": "a498e756",
   "metadata": {},
   "outputs": [],
   "source": []
  },
  {
   "cell_type": "markdown",
   "id": "25b0187b",
   "metadata": {},
   "source": [
    "#### Q3. What kind of knowledge is stored in a class?\n",
    "Ans. In object-oriented programming, a class stores knowledge about the common structure and behavior of its instances. It encapsulates the definition or blueprint of objects that belong to that class."
   ]
  },
  {
   "cell_type": "code",
   "execution_count": null,
   "id": "0ac1d8aa",
   "metadata": {},
   "outputs": [],
   "source": []
  },
  {
   "cell_type": "markdown",
   "id": "e5921418",
   "metadata": {},
   "source": [
    "#### Q4. What exactly is a method, and how is it different from a regular function?\n",
    "Ans. In the context of programming, a method is a function that is defined inside a class and is associated with objects or instances of that class. It is a behavior or action that an object of the class can perform. The key difference between a method and a regular function lies in their relationship to a class and instances."
   ]
  },
  {
   "cell_type": "code",
   "execution_count": null,
   "id": "eca21b6d",
   "metadata": {},
   "outputs": [],
   "source": []
  },
  {
   "cell_type": "markdown",
   "id": "50653b09",
   "metadata": {},
   "source": [
    "#### Q5. Is inheritance supported in Python, and if so, what is the syntax?\n",
    "Ans. Yes, inheritance is supported in Python. It allows you to create a new class (called the child class or subclass) that inherits the attributes and methods from an existing class (called the parent class or superclass). The child class can then extend or modify the behavior of the parent class.The syntax for creating a subclass and \n",
    "specifying inheritance in Python is as follows:\n",
    "\n",
    "\n",
    " class ParentClass:\n",
    " \n",
    "      # Parent class attributes and methods      \n",
    " class ChildClass(ParentClass):\n",
    " \n",
    "      # Child class attributes and methods"
   ]
  },
  {
   "cell_type": "code",
   "execution_count": null,
   "id": "75bbab76",
   "metadata": {},
   "outputs": [],
   "source": []
  },
  {
   "cell_type": "markdown",
   "id": "3490a5f2",
   "metadata": {},
   "source": [
    "#### Q6. How much encapsulation (making instance or class variables private) does Python support?\n",
    "Ans. In Python, encapsulation can be achieved to a certain extent through naming conventions and access modifiers. However, Python does not provide strict access modifiers like some other programming languages (e.g., private, protected, public) to enforce encapsulation.\n",
    "\n",
    " Python uses naming conventions to indicate the intended visibility of variables and methods. By convention, variables      and methods that are intended to be private are prefixed with a single underscore _, indicating that they are intended      for internal use within the class or module. However, this naming convention is merely a convention and does not            enforce strict encapsulation."
   ]
  },
  {
   "cell_type": "code",
   "execution_count": null,
   "id": "e8777e92",
   "metadata": {},
   "outputs": [],
   "source": []
  },
  {
   "cell_type": "markdown",
   "id": "fdcf9bf5",
   "metadata": {},
   "source": [
    "#### Q7. How do you distinguish between a class variable and an instance variable?\n",
    "Ans. In Python, class variables and instance variables are two different types of variables that are associated with a class and its instances, respectively. Here are the key differences between class variables and instance variables:\n",
    "\n",
    " Scope:\n",
    "\n",
    " 1. Class Variables: Class variables are shared among all instances of a class. They are defined within the class               scope, but outside any class methods. Class variables are accessed using the class name or the instance name.\n",
    "    Instance Variables: Instance variables are specific to each instance of a class. They are defined within the               instance methods or the constructor (__init__) of the class. Instance variables are accessed using the instance             name.\n",
    "\n",
    " Memory Allocation:\n",
    "\n",
    " 2. Class Variables: Class variables are allocated memory only once when the class is defined. They are stored in the           class object itself and are shared among all instances. Any modification to a class variable affects all instances         of the class.\n",
    "    Instance Variables: Instance variables are allocated memory separately for each instance of the class. Each                 instance has its own copy of instance variables, and modifications to instance variables are specific to that               instance only.\n",
    "\n",
    " Access and Modification:\n",
    "    \n",
    " 3. Class Variables: Class variables can be accessed and modified directly using the class name or any instance of the         class. Any modification to a class variable is reflected in all instances.\n",
    "    Instance Variables: Instance variables are accessed and modified using the instance name. Each instance has its own         set of instance variables, and modifications are specific to that instance only.\n"
   ]
  },
  {
   "cell_type": "code",
   "execution_count": null,
   "id": "3be24ceb",
   "metadata": {},
   "outputs": [],
   "source": []
  },
  {
   "cell_type": "markdown",
   "id": "5419286d",
   "metadata": {},
   "source": [
    "#### Q8. When, if ever, can self be included in a class&#39;s method definitions?\n",
    "Ans. In Python, the self parameter is used in class method definitions to refer to the instance of the class itself. It is typically the first parameter in instance methods, allowing the method to access and manipulate the instance variables and other instance-specific attributes."
   ]
  },
  {
   "cell_type": "code",
   "execution_count": null,
   "id": "149cd53b",
   "metadata": {},
   "outputs": [],
   "source": []
  },
  {
   "cell_type": "markdown",
   "id": "99b3585c",
   "metadata": {},
   "source": [
    "#### Q9. What is the difference between the _ _add_ _ and the _ _radd_ _ methods?\n",
    "Ans. add(self, other) is called when performing self + other, where self is the object on the left side of the + operator. radd(self, other) is called when performing other + self, where self is the object on the right side of the + operator, and the left operand does not have an add method that supports the addition with the object's type."
   ]
  },
  {
   "cell_type": "code",
   "execution_count": null,
   "id": "554f09fd",
   "metadata": {},
   "outputs": [],
   "source": []
  },
  {
   "cell_type": "markdown",
   "id": "a09d8a3d",
   "metadata": {},
   "source": [
    "#### Q10. When is it necessary to use a reflection method? When do you not need it, even though you support the operation in question?\n",
    "Ans. In Python, reflection methods, such as getattr, setattr, getattribute, and setattribute, are used to customize attribute access and manipulation behavior in objects. These methods are part of the Python object protocol and provide a way to intercept and modify attribute access and assignment operations.\n",
    "\n",
    " Reflection methods are necessary when you want to customize the behavior of attribute access or assignment for              specific attributes or when you want to provide dynamic attribute access based on runtime conditions. "
   ]
  },
  {
   "cell_type": "code",
   "execution_count": null,
   "id": "1d52056b",
   "metadata": {},
   "outputs": [],
   "source": []
  },
  {
   "cell_type": "markdown",
   "id": "6bcbfac2",
   "metadata": {},
   "source": [
    "#### Q11. What is the _ _iadd_ _ method called?\n",
    "Ans. The iadd method in Python is called when the += (in-place addition) operator is used on an object. It stands for \"in-place add\" and is used to implement the in-place addition operation, which modifies the object itself by adding another object to it."
   ]
  },
  {
   "cell_type": "code",
   "execution_count": null,
   "id": "17f44534",
   "metadata": {},
   "outputs": [],
   "source": []
  },
  {
   "cell_type": "markdown",
   "id": "888dd5b7",
   "metadata": {},
   "source": [
    "#### Q12. Is the _ _init_ _ method inherited by subclasses? What do you do if you need to customize its behavior within a subclass?\n",
    "Ans. Yes, the init method is inherited by subclasses in Python. When a subclass is created, it inherits all the methods, including the init method, from its parent class.\n",
    "\n",
    " If you need to customize the behavior of the __init__ method within a subclass, you can override the method by              defining it in the subclass itself. By providing a new implementation of the __init__ method in the subclass, you can      modify or extend the initialization behavior specific to that subclass."
   ]
  },
  {
   "cell_type": "code",
   "execution_count": null,
   "id": "eb1e4086",
   "metadata": {},
   "outputs": [],
   "source": []
  }
 ],
 "metadata": {
  "kernelspec": {
   "display_name": "Python 3 (ipykernel)",
   "language": "python",
   "name": "python3"
  },
  "language_info": {
   "codemirror_mode": {
    "name": "ipython",
    "version": 3
   },
   "file_extension": ".py",
   "mimetype": "text/x-python",
   "name": "python",
   "nbconvert_exporter": "python",
   "pygments_lexer": "ipython3",
   "version": "3.11.2"
  }
 },
 "nbformat": 4,
 "nbformat_minor": 5
}
