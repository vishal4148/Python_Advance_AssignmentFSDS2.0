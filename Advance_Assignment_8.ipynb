{
 "cells": [
  {
   "cell_type": "markdown",
   "id": "5d24cad5",
   "metadata": {},
   "source": [
    "#### 1:What are the two latest user-defined exception constraints in Python 3.X?\n",
    "Ans. context: This attribute is used to specify the context in which an exception occurred. It is set automatically by the interpreter when an exception is raised inside another exception handler. The context attribute is useful for creating exception chains, where one exception is caused by another.\n",
    "\n",
    "__cause__: This attribute is used to specify the cause of an exception. It is similar to __context__, but is used to       explicitly specify the exception that caused the current exception to be raised. The __cause__ attribute is useful for     propagating exceptions across different parts of a program, and can be used to provide more detailed information about     the cause of an error."
   ]
  },
  {
   "cell_type": "code",
   "execution_count": null,
   "id": "cab4bb62",
   "metadata": {},
   "outputs": [],
   "source": []
  },
  {
   "cell_type": "markdown",
   "id": "a78532b2",
   "metadata": {},
   "source": [
    "#### 2:How are class-based exceptions that have been raised matched to handlers?\n",
    "Ans. In Python, when a class-based exception is raised, the interpreter searches for an exception handler in the current call stack that matches the class of the raised exception. This search begins at the point where the exception was raised and continues up the call stack until a matching handler is found or the program terminates."
   ]
  },
  {
   "cell_type": "code",
   "execution_count": null,
   "id": "ddda14cc",
   "metadata": {},
   "outputs": [],
   "source": []
  },
  {
   "cell_type": "markdown",
   "id": "3178eda4",
   "metadata": {},
   "source": [
    "#### 3:Describe two methods for attaching context information to exception artefacts.\n",
    "Ans. In Python, there are several methods for attaching context information to exception artifacts, including:\n",
    "\n",
    " 1. Using the __context__ and __cause__ attributes: These attributes allow you to attach a reference to another                 exception that caused the current exception to be raised. This can be useful for creating exception chains, where           one exception is caused by another. You can also use these attributes to provide additional information about the           context in which the exception was raised.\n",
    "\n",
    " 2. Using the with statement: The with statement allows you to create a context manager, which is a class that defines         methods for handling setup and teardown operations. You can use a context manager to attach context information to         an exception by defining a __exit__ method that sets the __context__ or __cause__ attribute of the exception               object. This can be useful for attaching information about the resource that was being used when the exception             occurred, or for attaching a stack trace or other debugging information."
   ]
  },
  {
   "cell_type": "code",
   "execution_count": null,
   "id": "117ad831",
   "metadata": {},
   "outputs": [],
   "source": []
  },
  {
   "cell_type": "markdown",
   "id": "c454fe56",
   "metadata": {},
   "source": [
    "#### 4: Describe two methods for specifying the text of an exception object's error message.\n",
    "Ans. In Python, there are several methods for specifying the text of an exception object's error message, including:\n",
    "\n",
    " 1. Using the str built-in function: You can pass a string argument to the str built-in function to create an exception         object with a custom error message. \n",
    " 2. Defining a custom exception class: You can define a custom exception class that inherits from a built-in exception         class, and override the __init__ method to accept an error message argument."
   ]
  },
  {
   "cell_type": "code",
   "execution_count": null,
   "id": "42e04e02",
   "metadata": {},
   "outputs": [],
   "source": []
  },
  {
   "cell_type": "markdown",
   "id": "d96a23d7",
   "metadata": {},
   "source": [
    "#### 5:Why do you no longer use string-based exceptions?\n",
    "Ans. However, this approach has been deprecated since Python 2.5 and is no longer supported in Python 3. String-based exceptions are now considered a bad practice for several reasons:\n",
    "\n",
    " 1. Lack of specificity: String-based exceptions provide little information about the nature of the error that                 occurred. They do not convey any specific information about the type of the exception or the context in which it           occurred, which can make it difficult to diagnose and fix errors.\n",
    "\n",
    " 2. No inheritance: String-based exceptions do not inherit from the built-in Exception class or any of its subclasses,         which means they cannot be caught by a generic except clause that catches all exceptions.\n",
    "\n",
    " 3. Not picklable: String-based exceptions cannot be pickled, which means they cannot be passed between processes or           saved to disk."
   ]
  },
  {
   "cell_type": "code",
   "execution_count": null,
   "id": "cb0888cd",
   "metadata": {},
   "outputs": [],
   "source": []
  }
 ],
 "metadata": {
  "kernelspec": {
   "display_name": "Python 3 (ipykernel)",
   "language": "python",
   "name": "python3"
  },
  "language_info": {
   "codemirror_mode": {
    "name": "ipython",
    "version": 3
   },
   "file_extension": ".py",
   "mimetype": "text/x-python",
   "name": "python",
   "nbconvert_exporter": "python",
   "pygments_lexer": "ipython3",
   "version": "3.11.2"
  }
 },
 "nbformat": 4,
 "nbformat_minor": 5
}
