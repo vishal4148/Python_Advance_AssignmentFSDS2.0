{
 "cells": [
  {
   "cell_type": "markdown",
   "id": "faa49067",
   "metadata": {},
   "source": [
    "#### Q1. What is the difference between __getattr__ and __getattribute__?\n",
    "Ans : \n",
    " In Python, getattr and getattribute are both special methods that are called when an attribute lookup is performed on an object. However, they have some important differences:\n",
    " \n",
    "The main difference between __getattr__ and __getattribute__ is that __getattr__ is called when an attribute is not found, while __getattribute__ is called for every attribute access, whether or not the attribute exists\n",
    "\n",
    "__getattr__ is a special method that can be defined in a class to provide a default value or to raise an exception when an attribute is not found. For example, the following code defines a class with an __getattr__ method that returns the value 1 if the attribute foo is not found\n",
    "\n",
    "__getattribute__ is a special method that can also be defined in a class. __getattribute__ is called for every attribute access, whether or not the attribute exists. This means that __getattribute__ can be used to intercept all attribute accesses and perform custom logic before or after the attribute is accessed. "
   ]
  },
  {
   "cell_type": "code",
   "execution_count": null,
   "id": "92c556a4",
   "metadata": {},
   "outputs": [],
   "source": []
  },
  {
   "cell_type": "markdown",
   "id": "b5f61113",
   "metadata": {},
   "source": [
    "#### Q2. What is the difference between properties and descriptors?\n",
    "Ans. Both properties and descriptors are used to control access to class attributes, but they differ in how they achieve this.\n",
    "\n",
    "Properties are a way to define methods that are accessed like attributes. They provide a convenient way to access or       compute the value of an attribute, and can also be used to validate or transform the value of the attribute. Properties     are defined by adding the @property decorator to a method, and they can be assigned to like any other attribute.\n",
    "\n",
    " Descriptors, on the other hand, are a more general mechanism for controlling access to attributes. They are classes       that define one or more of the special methods __get__(), __set__(), or __delete__(). When an instance of a descriptor     class is assigned to a class attribute, Python will use the descriptor's methods to get, set, or delete the attribute       value as appropriate. This allows for more fine-grained control over attribute access than properties, as descriptors       can provide custom behavior for all three of the attribute access operations. However, they are more complex to use and     may not be necessary for simple cases."
   ]
  },
  {
   "cell_type": "code",
   "execution_count": null,
   "id": "d2304c38",
   "metadata": {},
   "outputs": [],
   "source": []
  },
  {
   "cell_type": "markdown",
   "id": "0cd7654a",
   "metadata": {},
   "source": [
    "#### Q3. What are the key differences in functionality between __getattr__ and __getattribute__, as well as properties and descriptors?\n",
    "Ans. The getattr and getattribute methods are both used for attribute access in Python classes, but they have different behaviors. getattr is called when an attribute is not found by normal means, such as when the attribute is not an instance variable or is not defined in the class hierarchy. getattribute is called for all attribute access attempts, regardless of whether the attribute exists or not.\n",
    "\n",
    " Properties and descriptors are also used for attribute access in Python classes, but they have different                    functionality. Properties are a way to access an instance variable through a method, which allows for additional            behavior to be defined when accessing the variable. Descriptors are a more general mechanism that allows for                customizing attribute access and modification behavior for any attribute, not just instance variables. Descriptors are      defined as a separate class that implements the __get__, __set__, and/or __delete__ methods, and they can be used in        conjunction with properties or directly with class attributes."
   ]
  },
  {
   "cell_type": "code",
   "execution_count": null,
   "id": "e738e265",
   "metadata": {},
   "outputs": [],
   "source": []
  }
 ],
 "metadata": {
  "kernelspec": {
   "display_name": "Python 3 (ipykernel)",
   "language": "python",
   "name": "python3"
  },
  "language_info": {
   "codemirror_mode": {
    "name": "ipython",
    "version": 3
   },
   "file_extension": ".py",
   "mimetype": "text/x-python",
   "name": "python",
   "nbconvert_exporter": "python",
   "pygments_lexer": "ipython3",
   "version": "3.11.2"
  }
 },
 "nbformat": 4,
 "nbformat_minor": 5
}
