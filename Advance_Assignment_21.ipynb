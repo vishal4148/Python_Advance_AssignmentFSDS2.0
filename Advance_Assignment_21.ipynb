{
 "cells": [
  {
   "cell_type": "markdown",
   "id": "872d5d6b",
   "metadata": {},
   "source": [
    "#### Q1. What is a probability distribution, exactly? If the values are meant to be random, how can you predict them at all?\n",
    "Ans. A probability distribution is a mathematical function that describes the likelihood of different outcomes or events occurring. It provides a way to quantify the uncertainty associated with random variables or processes.\n",
    "\n",
    " In probability theory, random variables represent uncertain quantities, and a probability distribution assigns              probabilities to different values or ranges of values that the random variable can take. The distribution describes        the relative likelihood of each possible outcome.\n",
    "\n",
    " While the individual outcomes of a random variable are unpredictable or random, the probability distribution provides      information about the overall pattern of the random variable's behavior. It characterizes the probabilities of              different outcomes based on underlying assumptions or observed data."
   ]
  },
  {
   "cell_type": "code",
   "execution_count": null,
   "id": "fa85c68f",
   "metadata": {},
   "outputs": [],
   "source": []
  },
  {
   "cell_type": "markdown",
   "id": "d063a07f",
   "metadata": {},
   "source": [
    "#### Q2. Is there a distinction between true random numbers and pseudo-random numbers, if there is one? Why are the latter considered “good enough”?\n",
    "Ans. Yes, there is a distinction between true random numbers and pseudo-random numbers.\n",
    "\n",
    " True random numbers are generated from a genuinely random or unpredictable source of entropy, such as atmospheric          noise, radioactive decay, or chaotic physical processes. They are considered to be inherently random and not                determined by any algorithm or computation. True random numbers have properties like randomness, independence, and          uniform distribution.\n",
    "\n",
    " On the other hand, pseudo-random numbers are generated using deterministic algorithms that simulate randomness. These      algorithms use an initial value called a seed and apply mathematical operations to generate a sequence of numbers that      exhibit statistical properties similar to true randomness. However, the sequence is entirely determined by the              algorithm and the seed value.\n",
    "\n",
    " Pseudo-random number generators (PRNGs) are designed to produce sequences that are statistically random enough for          most practical purposes. They pass various statistical tests and exhibit properties like uniform distribution and          independence between numbers. PRNGs are efficient, repeatable, and can generate long sequences of numbers based on a        small seed value."
   ]
  },
  {
   "cell_type": "code",
   "execution_count": null,
   "id": "a1d16456",
   "metadata": {},
   "outputs": [],
   "source": []
  },
  {
   "cell_type": "markdown",
   "id": "098d8b96",
   "metadata": {},
   "source": [
    "#### Q3. What are the two main factors that influence the behaviour of a &quot;normal&quot; probability distribution?\n",
    "Ans. The two main factors that influence the behavior of a \"normal\" probability distribution are the mean (μ) and the standard deviation (σ)."
   ]
  },
  {
   "cell_type": "code",
   "execution_count": null,
   "id": "73f04009",
   "metadata": {},
   "outputs": [],
   "source": []
  },
  {
   "cell_type": "markdown",
   "id": "686ba506",
   "metadata": {},
   "source": [
    "#### Q4. Provide a real-life example of a normal distribution.\n",
    "Ans. One real-life example of a normal distribution is the heights of adult males in a population."
   ]
  },
  {
   "cell_type": "code",
   "execution_count": null,
   "id": "6ecff752",
   "metadata": {},
   "outputs": [],
   "source": []
  },
  {
   "cell_type": "markdown",
   "id": "24d98612",
   "metadata": {},
   "source": [
    "#### Q5. In the short term, how can you expect a probability distribution to behave? What do you think will happen as the number of trials grows?\n",
    "Ans. In the short term, the behavior of a probability distribution can be variable and unpredictable. The outcome of each individual trial or event is subject to randomness, and in a limited number of trials, the observed distribution may not perfectly align with the expected probabilities.\n",
    "\n",
    " However, as the number of trials grows, the behavior of the probability distribution tends to stabilize and converge        towards the expected probabilities. This is known as the law of large numbers in probability theory. With an                increasing number of trials, the observed frequencies of events tend to approach the theoretical probabilities              predicted by the distribution."
   ]
  },
  {
   "cell_type": "code",
   "execution_count": null,
   "id": "a7249ca2",
   "metadata": {},
   "outputs": [],
   "source": []
  },
  {
   "cell_type": "markdown",
   "id": "cb3b8796",
   "metadata": {},
   "source": [
    "#### Q6. What kind of object can be shuffled by using random.shuffle?\n",
    "Ans. The random.shuffle() function in Python can be used to shuffle a mutable sequence object, such as a list. It modifies the sequence object in place, randomly reordering its elements."
   ]
  },
  {
   "cell_type": "code",
   "execution_count": null,
   "id": "455350b1",
   "metadata": {},
   "outputs": [],
   "source": []
  },
  {
   "cell_type": "markdown",
   "id": "cef007c1",
   "metadata": {},
   "source": [
    "#### 7.Describe the math package's general categories of functions.\n",
    "Ans. The math package in Python provides a wide range of mathematical functions and constants for various mathematical operations. The general categories of functions available in the math package can be described as follows:\n",
    "\n",
    " 1. Basic Arithmetic Functions:\n",
    "    Addition, subtraction, multiplication, and division functions (math.add(), math.sub(), math.mul(), math.div()).\n",
    "    Exponential and logarithmic functions (math.exp(), math.log(), math.log10()).\n",
    "\n",
    " 2. Trigonometric Functions:\n",
    "    Sine, cosine, tangent, and their inverse functions (math.sin(), math.cos(), math.tan(), math.asin(), math.acos(),           math.atan()).\n",
    "    Hyperbolic sine, cosine, and tangent functions (math.sinh(), math.cosh(), math.tanh()).\n",
    "\n",
    " 3. Mathematical Constants:\n",
    "    Constants like pi (math.pi), e (Euler's number, math.e), and other mathematical constants like tau (math.tau),             square root of 2 (math.sqrt(2)), etc.\n",
    "\n",
    " 4. Rounding and Absolute Value Functions:\n",
    "    Rounding functions (math.floor(), math.ceil(), math.round()) for rounding down, rounding up, and rounding to the           nearest integer.\n",
    "    Absolute value function (math.fabs() or abs()) for calculating the absolute value of a number.\n",
    "\n",
    " 5. Special Functions:\n",
    "    Factorial function (math.factorial()) for calculating the factorial of a number.\n",
    "    Gamma function (math.gamma()) for calculating the gamma function of a number.\n",
    "    Error function (math.erf()) for calculating the error function of a number."
   ]
  },
  {
   "cell_type": "code",
   "execution_count": null,
   "id": "b20cf0e1",
   "metadata": {},
   "outputs": [],
   "source": []
  },
  {
   "cell_type": "markdown",
   "id": "db96c497",
   "metadata": {},
   "source": [
    "#### 8.function of a number. What is the relationship between exponentiation and logarithms?\n",
    "Ans. The relationship between exponentiation and logarithms is based on the inverse nature of these mathematical operations. Exponentiation and logarithms are essentially opposite operations and can be used to \"undo\" each other.\n",
    "\n",
    " Exponentiation is the operation of raising a base number to a power. For example, in the expression a^b, where a is        the base and b is the exponent, we calculate the result by multiplying a by itself b times.\n",
    "\n",
    " On the other hand, logarithms are used to find the exponent or power to which a given base must be raised to obtain a      certain value. In the logarithmic expression log(base, value), we are solving for the exponent or power."
   ]
  },
  {
   "cell_type": "code",
   "execution_count": null,
   "id": "2a13440c",
   "metadata": {},
   "outputs": [],
   "source": []
  },
  {
   "cell_type": "markdown",
   "id": "b2526e0d",
   "metadata": {},
   "source": [
    "#### 9.What are the three logarithmic functions that Python supports?\n",
    "Ans. Python supports three logarithmic functions in the math module: 1. Natural Logarithm (Base e): 2. Common Logarithm (Base 10): 3. Arbitrary Logarithm (Custom Base):"
   ]
  },
  {
   "cell_type": "code",
   "execution_count": null,
   "id": "e007fcfc",
   "metadata": {},
   "outputs": [],
   "source": []
  }
 ],
 "metadata": {
  "kernelspec": {
   "display_name": "Python 3 (ipykernel)",
   "language": "python",
   "name": "python3"
  },
  "language_info": {
   "codemirror_mode": {
    "name": "ipython",
    "version": 3
   },
   "file_extension": ".py",
   "mimetype": "text/x-python",
   "name": "python",
   "nbconvert_exporter": "python",
   "pygments_lexer": "ipython3",
   "version": "3.11.2"
  }
 },
 "nbformat": 4,
 "nbformat_minor": 5
}
