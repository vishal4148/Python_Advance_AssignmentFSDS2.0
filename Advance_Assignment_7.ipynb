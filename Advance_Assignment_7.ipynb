{
 "cells": [
  {
   "cell_type": "markdown",
   "id": "bdd1d419",
   "metadata": {},
   "source": [
    "#### Q1. What is the purpose of the try statement?\n",
    "Ans. The purpose of the try statement in Python is to handle exceptions that might be raised by a block of code"
   ]
  },
  {
   "cell_type": "code",
   "execution_count": null,
   "id": "2e0b0a8e",
   "metadata": {},
   "outputs": [],
   "source": []
  },
  {
   "cell_type": "markdown",
   "id": "822d0550",
   "metadata": {},
   "source": [
    "#### Q2. What are the two most popular try statement variations?\n",
    "Ans. try-except statement: This statement is used to catch and handle exceptions that might be raised by a block of code. try-finally statement: This statement is used to specify code that should always be executed, regardless of whether or not an exception is raised."
   ]
  },
  {
   "cell_type": "code",
   "execution_count": null,
   "id": "28b2a462",
   "metadata": {},
   "outputs": [],
   "source": []
  },
  {
   "cell_type": "markdown",
   "id": "55198f7e",
   "metadata": {},
   "source": [
    "#### Q3. What is the purpose of the raise statement?\n",
    "Ans : \n",
    "The raise statement is used to raise an exception. An exception is an event that occurs during the execution of a program that disrupts the normal flow of the program. When an exception is raised, the program will stop executing the current statement and will start executing the exception handler."
   ]
  },
  {
   "cell_type": "code",
   "execution_count": null,
   "id": "866c733a",
   "metadata": {},
   "outputs": [],
   "source": []
  },
  {
   "cell_type": "markdown",
   "id": "0fbd4340",
   "metadata": {},
   "source": [
    "#### Q4. What does the assert statement do, and what other statement is it like?\n",
    "Ans. The assert statement in Python is used to check whether a condition is true, and if it is not true, it raises an AssertionError with an optional error message. The assert statement is similar to the if statement, but it is used specifically for testing conditions that should always be true. If the condition is false, it is considered to be an error in the code, and the assert statement raises an exception to indicate that the error has occurred."
   ]
  },
  {
   "cell_type": "code",
   "execution_count": null,
   "id": "a011b7ed",
   "metadata": {},
   "outputs": [],
   "source": []
  },
  {
   "cell_type": "markdown",
   "id": "a005d1fd",
   "metadata": {},
   "source": [
    "#### Q5. What is the purpose of the with/as argument, and what other statement is it like?\n",
    "Ans. The with/as statement in Python is used to simplify the management of resources that need to be cleaned up or released after they are used. It is similar to the try/finally statement, but with a more concise and readable syntax.The with/as statement is often used with resources that need to be closed or released explicitly, such as files, network connections, or database connections. It can also be used with custom classes that define their own context management protocol, using the enter and exit methods."
   ]
  },
  {
   "cell_type": "code",
   "execution_count": null,
   "id": "0406137c",
   "metadata": {},
   "outputs": [],
   "source": []
  }
 ],
 "metadata": {
  "kernelspec": {
   "display_name": "Python 3 (ipykernel)",
   "language": "python",
   "name": "python3"
  },
  "language_info": {
   "codemirror_mode": {
    "name": "ipython",
    "version": 3
   },
   "file_extension": ".py",
   "mimetype": "text/x-python",
   "name": "python",
   "nbconvert_exporter": "python",
   "pygments_lexer": "ipython3",
   "version": "3.11.2"
  }
 },
 "nbformat": 4,
 "nbformat_minor": 5
}
