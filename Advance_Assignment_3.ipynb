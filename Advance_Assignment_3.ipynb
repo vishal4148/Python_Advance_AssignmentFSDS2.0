{
 "cells": [
  {
   "cell_type": "markdown",
   "id": "f8a10d24",
   "metadata": {},
   "source": [
    "#### 1: What is the concept of an abstract superclass?\n",
    "Ans. In Python, an abstract superclass is a class that is designed to be inherited by other classes, but is not meant to be instantiated directly. Instead, its purpose is to provide a set of methods or attributes that will be shared by all its subclasses.\n",
    "\n",
    "An abstract superclass is a class that cannot be instantiated directly. It is used as a blueprint for other classes to inherit from. Abstract superclasses typically define common functionality that all subclasses will share.\n",
    "\n",
    " An abstract superclass is also known as an abstract class or simply an abstract. Abstract classes cannot be                instantiated, meaning you cannot create objects directly from them. Rather, they serve as a blueprint for other            classes to follow.\n",
    "\n",
    " To create an abstract superclass in Python, you need to import the ABC (Abstract Base Classes) module from the built-      in library 'abc'. Then you can define the abstract class by inheriting from the ABC class and using the                    @abstractmethod decorator on any method you want to make abstract. An abstract method is a method that is declared,        but has no implementation.\n",
    " \n",
    " \n",
    "An abstract superclass is a class that cannot be instantiated directly. It is used as a blueprint for other classes to inherit from. Abstract superclasses typically define common functionality that all subclasses will share.\n",
    "\n",
    "Abstract superclasses are declared using the abstract keyword. For example:\n",
    "\n",
    "Python\n",
    "class AbstractSuperclass:\n",
    "  def __init__(self):\n",
    "    print(\"AbstractSuperclass.__init__()\")\n",
    "\n",
    "  def abstract_method(self):\n",
    "    print(\"AbstractSuperclass.abstract_method()\")\n",
    "\n",
    "  def non_abstract_method(self):\n",
    "    print(\"AbstractSuperclass.non_abstract_method()\")\n",
    "Use code with caution. Learn more\n",
    "In this example, the AbstractSuperclass class is declared as abstract. It has two methods, abstract_method() and non_abstract_method(). The abstract_method() method is declared as abstract, which means that it must be implemented in any subclass that inherits from AbstractSuperclass. The non_abstract_method() method is not declared as abstract, which means that it can be called directly on instances of AbstractSuperclass.\n",
    "\n",
    "To create a subclass of AbstractSuperclass, you must implement the abstract_method() method. For example:\n",
    "\n",
    "Python\n",
    "class ConcreteSubclass(AbstractSuperclass):\n",
    "  def abstract_method(self):\n",
    "    print(\"ConcreteSubclass.abstract_method()\")\n",
    "Use code with caution. Learn more\n",
    "In this example, the ConcreteSubclass class inherits from AbstractSuperclass. The abstract_method() method is implemented in ConcreteSubclass.\n",
    "\n",
    "Abstract superclasses can be a powerful tool for organizing code and promoting code reuse. By defining common functionality in an abstract superclass, you can reduce the amount of code that needs to be written in each subclass. This can make your code easier to read, understand, and maintain.\n",
    "\n",
    "Here are some of the benefits of using abstract superclasses:\n",
    "\n",
    "Reusability: Abstract superclasses can be used to reuse code by defining common functionality in a single place. This can save time and effort when developing new applications.\n",
    "\n",
    "Readability: Abstract superclasses can make code more readable by grouping related functionality together. This can make it easier to understand what each class does and how it interacts with other classes.\n",
    "\n",
    "Maintainability: Abstract superclasses can make code more maintainable by making it easier to add new features or fix bugs. This is because changes to an abstract superclass are typically isolated to that class, and do not affect other classes in the system."
   ]
  },
  {
   "cell_type": "code",
   "execution_count": null,
   "id": "2fe613ab",
   "metadata": {},
   "outputs": [],
   "source": []
  },
  {
   "cell_type": "markdown",
   "id": "08a7c68e",
   "metadata": {},
   "source": [
    "#### 2:What happens when a class statement's top level contains a basic assignment statement?\n",
    "Ans. When a class statement's top level contains a basic assignment statement, a class attribute is created. Class attributes are attributes that are shared by all instances of the class and are not specific to any one instance."
   ]
  },
  {
   "cell_type": "code",
   "execution_count": null,
   "id": "3ff7117e",
   "metadata": {},
   "outputs": [],
   "source": []
  },
  {
   "cell_type": "markdown",
   "id": "c18ddfe5",
   "metadata": {},
   "source": [
    "#### 3:Why does a class need to manually call a superclass's init method?\n",
    "Ans. In Python, when a subclass is created, it does not automatically inherit the constructor of its superclass. Instead, the subclass needs to explicitly call the constructor of its superclass in order to properly initialize the inherited attributes and methods.\n",
    "\n",
    " This is typically done by calling the superclass's __init__ method using the super() function within the subclass's         __init__ method. The super() function returns a temporary object of the superclass, which allows you to call its          methods."
   ]
  },
  {
   "cell_type": "code",
   "execution_count": null,
   "id": "ceaf852d",
   "metadata": {},
   "outputs": [],
   "source": []
  },
  {
   "cell_type": "markdown",
   "id": "8d52eca8",
   "metadata": {},
   "source": [
    "#### 4:How can you augment, instead of completely replacing, an inherited method?\n",
    "Ans. In Python, when a subclass inherits a method from a superclass, you can augment or extend the behavior of the inherited method without completely replacing it. This is typically done by calling the inherited method from within the subclass's method, and then adding additional functionality before or after the call. By calling the superclass's method and then adding additional functionality before or after the call, you can augment the behavior of the inherited method without completely replacing it. This allows you to reuse and build upon the functionality of the superclass's method, while still customizing it to meet the specific needs of the subclass."
   ]
  },
  {
   "cell_type": "code",
   "execution_count": null,
   "id": "64bc3da9",
   "metadata": {},
   "outputs": [],
   "source": []
  },
  {
   "cell_type": "markdown",
   "id": "674c605e",
   "metadata": {},
   "source": [
    "#### 5: How is the local scope of a class different from that of a function?\n",
    "Ans. In Python, a class creates a new namespace or scope, which is different from the local scope of a function. The main difference between the local scope of a class and that of a function are:\n",
    "\n",
    " 1. Accessibility: Variables and methods defined in the class's scope are accessible throughout the class, including           its methods, whereas variables defined in a function's local scope are only accessible within the function.\n",
    "\n",
    " 2. Lifetime: Class-level variables and methods are present for the lifetime of the class, whereas function-level               variables are created and destroyed each time the function is called.\n",
    "\n",
    " 3. Inheritance: When a class is inherited, the subclass can access and override the class attributes and methods,             while retaining its own scope. In contrast, a function can only access the global and local scopes of its                   definition, and it does not have a separate inheritance hierarchy."
   ]
  },
  {
   "cell_type": "code",
   "execution_count": null,
   "id": "9ad6d55d",
   "metadata": {},
   "outputs": [],
   "source": []
  }
 ],
 "metadata": {
  "kernelspec": {
   "display_name": "Python 3 (ipykernel)",
   "language": "python",
   "name": "python3"
  },
  "language_info": {
   "codemirror_mode": {
    "name": "ipython",
    "version": 3
   },
   "file_extension": ".py",
   "mimetype": "text/x-python",
   "name": "python",
   "nbconvert_exporter": "python",
   "pygments_lexer": "ipython3",
   "version": "3.11.2"
  }
 },
 "nbformat": 4,
 "nbformat_minor": 5
}
