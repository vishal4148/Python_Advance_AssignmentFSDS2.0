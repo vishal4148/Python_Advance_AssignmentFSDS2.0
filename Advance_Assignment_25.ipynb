{
 "cells": [
  {
   "cell_type": "markdown",
   "id": "6cec0b07",
   "metadata": {},
   "source": [
    "#### 1.What is the distinction between a numpy array and a pandas data frame? Is there a way to convert between the two if there is?\n",
    "Ans. The distinction between a NumPy array and a Pandas DataFrame lies in their underlying data structures and the additional functionalities provided by Pandas:\n",
    "\n",
    " 1. Data structure: A NumPy array is a multi-dimensional, homogeneous data structure that stores elements of the same           data type in a contiguous block of memory. In contrast, a Pandas DataFrame is a two-dimensional, tabular data               structure that can hold heterogeneous data types, similar to a table or spreadsheet.\n",
    "\n",
    " 2. Indexing: NumPy arrays are primarily accessed and manipulated using numerical indices, whereas Pandas DataFrames           provide both numerical and label-based indexing. DataFrames have row and column labels, allowing for more intuitive         and flexible data access and manipulation.\n",
    "\n",
    " 3. Additional functionalities: Pandas DataFrames offer a rich set of data manipulation and analysis capabilities               beyond basic array operations. DataFrames provide methods for data cleaning, merging, reshaping, grouping, and             aggregating data. They also have built-in support for handling missing data and time series data, and they                 integrate well with other data analysis libraries.\n",
    "\n",
    " To convert between a NumPy array and a Pandas DataFrame, you can use the following methods:\n",
    "\n",
    " 1. Convert NumPy array to DataFrame: You can create a Pandas DataFrame from a NumPy array using the pd.DataFrame()             constructor. The NumPy array can be passed as an argument, and Pandas will create a DataFrame with default                 numerical indices.\n",
    "\n",
    " 2. Convert DataFrame to NumPy array: You can convert a Pandas DataFrame to a NumPy array using the .values attribute.         It returns a NumPy array containing the values from the DataFrame.  "
   ]
  },
  {
   "cell_type": "code",
   "execution_count": null,
   "id": "28b0ad3c",
   "metadata": {},
   "outputs": [],
   "source": []
  },
  {
   "cell_type": "markdown",
   "id": "b163e9bc",
   "metadata": {},
   "source": [
    "#### 2.What can go wrong when an user enters in a stock-ticker symbol, and how do you handle it?\n",
    "Ans. When a user enters a stock ticker symbol, several issues can arise:\n",
    "\n",
    " 1. Invalid symbol: The user may enter a symbol that does not exist or is not recognized by the financial data                 provider. To handle this, you can validate the symbol by checking it against a list of known valid symbols or by           utilizing an API that provides symbol validation.\n",
    "\n",
    " 2. Missing or delayed data: The financial data provider may not have data available for the requested symbol, or there         might be a delay in updating the data. You can handle this by checking for data availability or implementing error         handling mechanisms to notify the user or retry fetching the data after a certain period.\n",
    "\n",
    " 3. Inconsistent data formatting: The symbol entered by the user might have inconsistent formatting, such as                   uppercase/lowercase variations or additional whitespace. To handle this, you can standardize the formatting by             converting the symbol to a consistent case or by stripping whitespace before using it for data retrieval.\n",
    "\n",
    " 4. Limited data coverage: Some financial data providers may have limited coverage of certain symbols or markets. If           the requested symbol is not supported by the data provider, you can inform the user about the limitation and               suggest alternative symbols or data sources if available.\n",
    "\n",
    " To handle these issues, it is recommended to implement robust error handling mechanisms, validate user input, and          communicate any errors or limitations clearly to the user to ensure a smooth and reliable experience when dealing with      stock ticker symbols."
   ]
  },
  {
   "cell_type": "code",
   "execution_count": null,
   "id": "b120ab72",
   "metadata": {},
   "outputs": [],
   "source": []
  },
  {
   "cell_type": "markdown",
   "id": "ebd58781",
   "metadata": {},
   "source": [
    "#### 3.Identify some of the plotting techniques that are used to produce a stock-market chart.\n",
    "Ans. Some of the plotting techniques used to produce a stock market chart include line plots, candlestick charts, bar charts, and moving averages."
   ]
  },
  {
   "cell_type": "code",
   "execution_count": null,
   "id": "1ea8e07c",
   "metadata": {},
   "outputs": [],
   "source": []
  },
  {
   "cell_type": "markdown",
   "id": "4d353872",
   "metadata": {},
   "source": [
    "#### 4.Why is it essential to print a legend on a stock market chart?\n",
    "Ans. It is essential to print a legend on a stock market chart to provide a clear explanation of the data representation, including the meaning of different lines, colors, or symbols used in the chart, helping viewers interpret the information accurately."
   ]
  },
  {
   "cell_type": "code",
   "execution_count": null,
   "id": "eb9f6cae",
   "metadata": {},
   "outputs": [],
   "source": []
  },
  {
   "cell_type": "markdown",
   "id": "a8bb3af9",
   "metadata": {},
   "source": [
    "#### 5.What is the best way to limit the length of a pandas data frame to less than a year?\n",
    "Ans. The best way to limit the length of a Pandas DataFrame to less than a year is by using slicing with a date range condition, specifying the desired start and end dates to extract the relevant data within that timeframe."
   ]
  },
  {
   "cell_type": "code",
   "execution_count": null,
   "id": "094ab120",
   "metadata": {},
   "outputs": [],
   "source": []
  },
  {
   "cell_type": "markdown",
   "id": "62e3146a",
   "metadata": {},
   "source": [
    "#### 6.What is the definition of a 180-day moving average?\n",
    "Ans. A 180-day moving average is a calculation that smoothes out fluctuations in data by averaging the values over a period of 180 days, updating the average as each new data point becomes available."
   ]
  },
  {
   "cell_type": "code",
   "execution_count": null,
   "id": "7d9d39a5",
   "metadata": {},
   "outputs": [],
   "source": []
  },
  {
   "cell_type": "markdown",
   "id": "38cdecf9",
   "metadata": {},
   "source": [
    "#### 7.Did the chapter's final example use \"indirect\" importing? If so, how exactly do you do it?\n",
    "Ans. The chapter's final example did not use \"indirect\" importing, and to achieve indirect importing, you can import a module within a specific function or conditional block rather than at the top of the script."
   ]
  },
  {
   "cell_type": "code",
   "execution_count": null,
   "id": "bbdcc075",
   "metadata": {},
   "outputs": [],
   "source": []
  }
 ],
 "metadata": {
  "kernelspec": {
   "display_name": "Python 3 (ipykernel)",
   "language": "python",
   "name": "python3"
  },
  "language_info": {
   "codemirror_mode": {
    "name": "ipython",
    "version": 3
   },
   "file_extension": ".py",
   "mimetype": "text/x-python",
   "name": "python",
   "nbconvert_exporter": "python",
   "pygments_lexer": "ipython3",
   "version": "3.11.2"
  }
 },
 "nbformat": 4,
 "nbformat_minor": 5
}
